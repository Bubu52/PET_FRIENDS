{
 "cells": [
  {
   "cell_type": "markdown",
   "metadata": {},
   "source": [
    "LIBRERIAS"
   ]
  },
  {
   "cell_type": "code",
   "execution_count": 34,
   "metadata": {},
   "outputs": [],
   "source": [
    "import pandas as pd"
   ]
  },
  {
   "cell_type": "code",
   "execution_count": 35,
   "metadata": {},
   "outputs": [
    {
     "name": "stderr",
     "output_type": "stream",
     "text": [
      "C:\\Users\\GuillemEdoBertran\\AppData\\Local\\Temp\\ipykernel_11364\\2357575593.py:1: DtypeWarning: Columns (13) have mixed types. Specify dtype option on import or set low_memory=False.\n",
      "  df = pd.read_csv('Amigos_De_Las_Mascotas_2022_Data_Set.csv',sep = ';')\n"
     ]
    }
   ],
   "source": [
    "df = pd.read_csv('Amigos_De_Las_Mascotas_2022_Data_Set.csv',sep = ';')"
   ]
  },
  {
   "cell_type": "code",
   "execution_count": 36,
   "metadata": {},
   "outputs": [
    {
     "data": {
      "text/html": [
       "<div>\n",
       "<style scoped>\n",
       "    .dataframe tbody tr th:only-of-type {\n",
       "        vertical-align: middle;\n",
       "    }\n",
       "\n",
       "    .dataframe tbody tr th {\n",
       "        vertical-align: top;\n",
       "    }\n",
       "\n",
       "    .dataframe thead th {\n",
       "        text-align: right;\n",
       "    }\n",
       "</style>\n",
       "<table border=\"1\" class=\"dataframe\">\n",
       "  <thead>\n",
       "    <tr style=\"text-align: right;\">\n",
       "      <th></th>\n",
       "      <th>EjercicioPedido</th>\n",
       "      <th>NumeroPedido</th>\n",
       "      <th>Orden</th>\n",
       "      <th>FechaRegistro</th>\n",
       "      <th>FechaPedido</th>\n",
       "      <th>CodigoArticulo</th>\n",
       "      <th>Partida</th>\n",
       "      <th>CodigoFamilia</th>\n",
       "      <th>CodigoSubfamilia</th>\n",
       "      <th>CodigodelCliente</th>\n",
       "      <th>...</th>\n",
       "      <th>PrecioCoste</th>\n",
       "      <th>%Descuento</th>\n",
       "      <th>ImporteCoste</th>\n",
       "      <th>ImporteBruto</th>\n",
       "      <th>ImporteNeto</th>\n",
       "      <th>BaseImponible</th>\n",
       "      <th>TotalIva</th>\n",
       "      <th>ImporteLiquido</th>\n",
       "      <th>TipoArticulo</th>\n",
       "      <th>(No column name)</th>\n",
       "    </tr>\n",
       "  </thead>\n",
       "  <tbody>\n",
       "    <tr>\n",
       "      <th>141011</th>\n",
       "      <td>2022</td>\n",
       "      <td>PVM10016</td>\n",
       "      <td>5</td>\n",
       "      <td>2022-06-21 14:39:43</td>\n",
       "      <td>2022-06-21</td>\n",
       "      <td>AR750804</td>\n",
       "      <td>P</td>\n",
       "      <td>F075</td>\n",
       "      <td>FS075009</td>\n",
       "      <td>C750804</td>\n",
       "      <td>...</td>\n",
       "      <td>3,8</td>\n",
       "      <td>20</td>\n",
       "      <td>11,4</td>\n",
       "      <td>16,43</td>\n",
       "      <td>13,14</td>\n",
       "      <td>13,14</td>\n",
       "      <td>1,314</td>\n",
       "      <td>14,454</td>\n",
       "      <td>TPM</td>\n",
       "      <td>U070803</td>\n",
       "    </tr>\n",
       "    <tr>\n",
       "      <th>311940</th>\n",
       "      <td>2022</td>\n",
       "      <td>PVMW28090</td>\n",
       "      <td>35</td>\n",
       "      <td>2022-09-19 15:34:37</td>\n",
       "      <td>2022-09-19</td>\n",
       "      <td>AR540029</td>\n",
       "      <td>PR-01</td>\n",
       "      <td>F054</td>\n",
       "      <td>FS054102</td>\n",
       "      <td>C540029</td>\n",
       "      <td>...</td>\n",
       "      <td>21,39</td>\n",
       "      <td>14</td>\n",
       "      <td>36,67</td>\n",
       "      <td>47,82</td>\n",
       "      <td>41,13</td>\n",
       "      <td>41,13</td>\n",
       "      <td>4,113</td>\n",
       "      <td>45,243</td>\n",
       "      <td>TPM</td>\n",
       "      <td>U11E01</td>\n",
       "    </tr>\n",
       "    <tr>\n",
       "      <th>36061</th>\n",
       "      <td>2022</td>\n",
       "      <td>PBR1677</td>\n",
       "      <td>0</td>\n",
       "      <td>2022-09-25 07:50:47</td>\n",
       "      <td>2022-09-26</td>\n",
       "      <td>AR381105</td>\n",
       "      <td>P0</td>\n",
       "      <td>F038</td>\n",
       "      <td>FS03800780</td>\n",
       "      <td>C381105</td>\n",
       "      <td>...</td>\n",
       "      <td>9,056545396</td>\n",
       "      <td>12</td>\n",
       "      <td>9,06</td>\n",
       "      <td>12,6</td>\n",
       "      <td>9,75</td>\n",
       "      <td>9,6525</td>\n",
       "      <td>0,96525</td>\n",
       "      <td>10,61775</td>\n",
       "      <td>TPM</td>\n",
       "      <td>UBE/02/03</td>\n",
       "    </tr>\n",
       "    <tr>\n",
       "      <th>237380</th>\n",
       "      <td>2022</td>\n",
       "      <td>PVMW11326</td>\n",
       "      <td>55</td>\n",
       "      <td>2022-04-22</td>\n",
       "      <td>2022-04-22</td>\n",
       "      <td>AR540005</td>\n",
       "      <td>P01120</td>\n",
       "      <td>F054</td>\n",
       "      <td>FS054100</td>\n",
       "      <td>C</td>\n",
       "      <td>...</td>\n",
       "      <td>6,24</td>\n",
       "      <td>14</td>\n",
       "      <td>6,24</td>\n",
       "      <td>6,97</td>\n",
       "      <td>5,99</td>\n",
       "      <td>5,99</td>\n",
       "      <td>0</td>\n",
       "      <td>5,99</td>\n",
       "      <td>TPM</td>\n",
       "      <td>U05D08</td>\n",
       "    </tr>\n",
       "    <tr>\n",
       "      <th>421453</th>\n",
       "      <td>2022</td>\n",
       "      <td>PVR3088</td>\n",
       "      <td>0</td>\n",
       "      <td>2022-10-05 19:39:23</td>\n",
       "      <td>2022-10-06</td>\n",
       "      <td>AR930556</td>\n",
       "      <td>P</td>\n",
       "      <td>F093</td>\n",
       "      <td>FS0930000025</td>\n",
       "      <td>C930556</td>\n",
       "      <td>...</td>\n",
       "      <td>8,14194385</td>\n",
       "      <td>15</td>\n",
       "      <td>8,14</td>\n",
       "      <td>12,48</td>\n",
       "      <td>10,61</td>\n",
       "      <td>10,5039</td>\n",
       "      <td>1,05039</td>\n",
       "      <td>11,55429</td>\n",
       "      <td>TPM</td>\n",
       "      <td>UA52052</td>\n",
       "    </tr>\n",
       "  </tbody>\n",
       "</table>\n",
       "<p>5 rows × 27 columns</p>\n",
       "</div>"
      ],
      "text/plain": [
       "        EjercicioPedido NumeroPedido  Orden        FechaRegistro FechaPedido  \\\n",
       "141011             2022     PVM10016      5  2022-06-21 14:39:43  2022-06-21   \n",
       "311940             2022    PVMW28090     35  2022-09-19 15:34:37  2022-09-19   \n",
       "36061              2022      PBR1677      0  2022-09-25 07:50:47  2022-09-26   \n",
       "237380             2022    PVMW11326     55           2022-04-22  2022-04-22   \n",
       "421453             2022      PVR3088      0  2022-10-05 19:39:23  2022-10-06   \n",
       "\n",
       "       CodigoArticulo Partida CodigoFamilia CodigoSubfamilia CodigodelCliente  \\\n",
       "141011       AR750804       P          F075         FS075009          C750804   \n",
       "311940       AR540029   PR-01          F054         FS054102          C540029   \n",
       "36061        AR381105      P0          F038       FS03800780          C381105   \n",
       "237380       AR540005  P01120          F054         FS054100                C   \n",
       "421453       AR930556       P          F093     FS0930000025          C930556   \n",
       "\n",
       "        ...  PrecioCoste %Descuento ImporteCoste ImporteBruto  ImporteNeto  \\\n",
       "141011  ...          3,8         20         11,4        16,43        13,14   \n",
       "311940  ...        21,39         14        36,67        47,82        41,13   \n",
       "36061   ...  9,056545396         12         9,06         12,6         9,75   \n",
       "237380  ...         6,24         14         6,24         6,97         5,99   \n",
       "421453  ...   8,14194385         15         8,14        12,48        10,61   \n",
       "\n",
       "        BaseImponible TotalIva ImporteLiquido TipoArticulo (No column name)  \n",
       "141011          13,14    1,314         14,454          TPM          U070803  \n",
       "311940          41,13    4,113         45,243          TPM           U11E01  \n",
       "36061          9,6525  0,96525       10,61775          TPM        UBE/02/03  \n",
       "237380           5,99        0           5,99          TPM           U05D08  \n",
       "421453        10,5039  1,05039       11,55429          TPM          UA52052  \n",
       "\n",
       "[5 rows x 27 columns]"
      ]
     },
     "execution_count": 36,
     "metadata": {},
     "output_type": "execute_result"
    }
   ],
   "source": [
    "df.sample(5)"
   ]
  },
  {
   "cell_type": "code",
   "execution_count": 37,
   "metadata": {},
   "outputs": [
    {
     "data": {
      "text/plain": [
       "EjercicioPedido  NumeroPedido  Orden  FechaRegistro        FechaPedido  CodigoArticulo  Partida       CodigoFamilia  CodigoSubfamilia  CodigodelCliente  CodigoProveedor  FechaCaduca  FechaEntrega  Ubicacion  Estado  %Iva  Precio       PrecioCoste  %Descuento  ImporteCoste  ImporteBruto  ImporteNeto  BaseImponible  TotalIva  ImporteLiquido  TipoArticulo  (No column name)\n",
       "2022             PBM107        15     2022-03-16 10:30:28  2022-03-16   AR034031        PR-5160       F003           FS003109          C034031           P400124          2026-07-31   2022-03-16    061010     2       10    35,756       31,6229      0           -31,62        -35,76        -35,76       -35,76         -3,576    -39,336         TPM           U061010             1\n",
       "                 PBRW1459      535    2022-09-20           2022-09-20   AR380082        P22173059RCA  F038           FS03800650        C                 P400002          2023-12-20   2022-09-20    AD/05/01   2       0     17,7         12,9         13          25,8          35,4          30,8         30,8           0         30,8            TPM           UAD/05/01           1\n",
       "                               600    2022-09-20 17:46:34  2022-09-20   AR381124        P226F1BRK04   F038           FS03800311        C381124           P400002          2024-07-02   2022-09-20    BE/01/03   2       0     13,85        10,09        13          10,09         13,85         12,05        12,05          0         12,05           TPM           UBE/01/03           1\n",
       "                               590    2022-09-20 17:46:09  2022-09-20   AR381120        P216C2BRK05   F038           FS03800311        C381120           P400002          2024-04-20   2022-09-20    BE/01/03   2       0     13,75        10,02        13          20,04         27,5          23,92        23,92          0         23,92           TPM           UBE/01/03           1\n",
       "                               585    2022-09-20 17:45:57  2022-09-20   AR381026        P220C1BRK05   F038           FS03800311        C381026           P400002          2024-05-18   2022-09-20    BE/01/03   2       0     13,75        10,02        13          40,08         55            47,85        47,85          0         47,85           TPM           UBE/01/03           1\n",
       "                                                                                                                                                                                                                                                                                                                                                                                       ..\n",
       "                 PBR1967       0      2022-11-13 10:08:34  2022-11-14   AR380156        P22228148RCA  F038           FS03800211        C380156           P400002          2024-02-14   2022-11-14    BD/09/02   2       10    20,3         14,63849515  12          14,64         20,3          15,7         15,543         1,5543    17,0973         TPM           UBD/05/02           1\n",
       "                                      2022-11-13 10:08:35  2022-11-14   AR820101        P2116         F082           FS08200001        C820101           P400630          2023-09-29   2022-11-14    G/03/01    2       10    6,153846154  3,537869033  21          10,61         18,46         14,58        14,4342        1,44342   15,87762        TPM           UG/03/01            1\n",
       "                                                                        AR820102        P2221         F082           FS08200001        C820102           P400630          2024-01-01   2022-11-14    G/03/01    2       10    6,123076923  3,552537891  21          7,11          12,25         9,68         9,5832         0,95832   10,54152        TPM           UG/03/01            1\n",
       "                                      2022-11-13 10:08:40  2022-11-14   AR930060        P22141        F093           FS0930000005      C930060           P400669          2023-06-20   2022-11-14    AD/09/01   2       10    33,59        20,91625679  15          41,83         67,18         57,1         56,529         5,6529    62,1819         TPM           UAD/09/01           1\n",
       "                 PVRW4316      5      2022-05-10           2022-05-10   AR380674        P22050031RCA  F038           FS03800710        C                 P400002          2023-08-19   2022-05-10    0203051    2       10    3,75         2,73         19          5,46          7,5           6,07         6,07           0,607     6,677           TPM           U0203051            1\n",
       "Name: count, Length: 17477, dtype: int64"
      ]
     },
     "execution_count": 37,
     "metadata": {},
     "output_type": "execute_result"
    }
   ],
   "source": [
    "df.value_counts()"
   ]
  },
  {
   "cell_type": "markdown",
   "metadata": {},
   "source": [
    "Cambiamos todos los objetos a float para analizar correctamente"
   ]
  },
  {
   "cell_type": "code",
   "execution_count": 38,
   "metadata": {},
   "outputs": [],
   "source": [
    "#df['Precio'].astype(float)"
   ]
  },
  {
   "cell_type": "markdown",
   "metadata": {},
   "source": [
    "Variable de columnas numericas"
   ]
  },
  {
   "cell_type": "code",
   "execution_count": 39,
   "metadata": {},
   "outputs": [],
   "source": [
    "numericas = ['Orden','Estado','%Iva','Precio','PrecioCoste','%Descuento','ImporteCoste','ImporteBruto','ImporteNeto','BaseImponible','TotalIva','ImporteLiquido']"
   ]
  },
  {
   "cell_type": "markdown",
   "metadata": {},
   "source": [
    "Exploración"
   ]
  },
  {
   "cell_type": "code",
   "execution_count": 40,
   "metadata": {},
   "outputs": [
    {
     "data": {
      "text/plain": [
       "TipoArticulo\n",
       "TPM    495413\n",
       "TPI         6\n",
       "Name: count, dtype: int64"
      ]
     },
     "execution_count": 40,
     "metadata": {},
     "output_type": "execute_result"
    }
   ],
   "source": [
    "df['TipoArticulo'].value_counts()"
   ]
  },
  {
   "cell_type": "code",
   "execution_count": 41,
   "metadata": {},
   "outputs": [
    {
     "data": {
      "text/plain": [
       "CodigoFamilia\n",
       "F038    122679\n",
       "F093     68107\n",
       "F082     22464\n",
       "F078     19035\n",
       "F069     16767\n",
       "         ...  \n",
       "F998         3\n",
       "F047         3\n",
       "F018         2\n",
       "F031         2\n",
       "F020         1\n",
       "Name: count, Length: 83, dtype: int64"
      ]
     },
     "execution_count": 41,
     "metadata": {},
     "output_type": "execute_result"
    }
   ],
   "source": [
    "df['CodigoFamilia'].value_counts()"
   ]
  },
  {
   "cell_type": "code",
   "execution_count": 42,
   "metadata": {},
   "outputs": [
    {
     "data": {
      "text/html": [
       "<div>\n",
       "<style scoped>\n",
       "    .dataframe tbody tr th:only-of-type {\n",
       "        vertical-align: middle;\n",
       "    }\n",
       "\n",
       "    .dataframe tbody tr th {\n",
       "        vertical-align: top;\n",
       "    }\n",
       "\n",
       "    .dataframe thead th {\n",
       "        text-align: right;\n",
       "    }\n",
       "</style>\n",
       "<table border=\"1\" class=\"dataframe\">\n",
       "  <thead>\n",
       "    <tr style=\"text-align: right;\">\n",
       "      <th></th>\n",
       "      <th>NumeroPedido</th>\n",
       "      <th>Orden</th>\n",
       "      <th>CodigoArticulo</th>\n",
       "      <th>PrecioCoste</th>\n",
       "    </tr>\n",
       "  </thead>\n",
       "  <tbody>\n",
       "    <tr>\n",
       "      <th>338377</th>\n",
       "      <td>PVMW33831</td>\n",
       "      <td>5</td>\n",
       "      <td>AR100162</td>\n",
       "      <td>99,92</td>\n",
       "    </tr>\n",
       "    <tr>\n",
       "      <th>337975</th>\n",
       "      <td>PVMW33744</td>\n",
       "      <td>50</td>\n",
       "      <td>AR100162</td>\n",
       "      <td>99,92</td>\n",
       "    </tr>\n",
       "    <tr>\n",
       "      <th>360021</th>\n",
       "      <td>PVMW38564</td>\n",
       "      <td>15</td>\n",
       "      <td>AR100162</td>\n",
       "      <td>99,92</td>\n",
       "    </tr>\n",
       "    <tr>\n",
       "      <th>341954</th>\n",
       "      <td>PVMW34623</td>\n",
       "      <td>30</td>\n",
       "      <td>AR100162</td>\n",
       "      <td>99,92</td>\n",
       "    </tr>\n",
       "    <tr>\n",
       "      <th>355856</th>\n",
       "      <td>PVMW37649</td>\n",
       "      <td>15</td>\n",
       "      <td>AR100162</td>\n",
       "      <td>99,92</td>\n",
       "    </tr>\n",
       "    <tr>\n",
       "      <th>...</th>\n",
       "      <td>...</td>\n",
       "      <td>...</td>\n",
       "      <td>...</td>\n",
       "      <td>...</td>\n",
       "    </tr>\n",
       "    <tr>\n",
       "      <th>61250</th>\n",
       "      <td>PBRW1209</td>\n",
       "      <td>1345</td>\n",
       "      <td>AR7</td>\n",
       "      <td>0</td>\n",
       "    </tr>\n",
       "    <tr>\n",
       "      <th>87710</th>\n",
       "      <td>PVAB1513</td>\n",
       "      <td>4</td>\n",
       "      <td>AR5</td>\n",
       "      <td>0</td>\n",
       "    </tr>\n",
       "    <tr>\n",
       "      <th>61251</th>\n",
       "      <td>PBRW1209</td>\n",
       "      <td>1350</td>\n",
       "      <td>AR7</td>\n",
       "      <td>0</td>\n",
       "    </tr>\n",
       "    <tr>\n",
       "      <th>61252</th>\n",
       "      <td>PBRW1209</td>\n",
       "      <td>1355</td>\n",
       "      <td>AR7</td>\n",
       "      <td>0</td>\n",
       "    </tr>\n",
       "    <tr>\n",
       "      <th>11467</th>\n",
       "      <td>PBR512</td>\n",
       "      <td>5</td>\n",
       "      <td>AR7</td>\n",
       "      <td>0</td>\n",
       "    </tr>\n",
       "  </tbody>\n",
       "</table>\n",
       "<p>495419 rows × 4 columns</p>\n",
       "</div>"
      ],
      "text/plain": [
       "       NumeroPedido  Orden CodigoArticulo PrecioCoste\n",
       "338377    PVMW33831      5       AR100162       99,92\n",
       "337975    PVMW33744     50       AR100162       99,92\n",
       "360021    PVMW38564     15       AR100162       99,92\n",
       "341954    PVMW34623     30       AR100162       99,92\n",
       "355856    PVMW37649     15       AR100162       99,92\n",
       "...             ...    ...            ...         ...\n",
       "61250      PBRW1209   1345            AR7           0\n",
       "87710      PVAB1513      4            AR5           0\n",
       "61251      PBRW1209   1350            AR7           0\n",
       "61252      PBRW1209   1355            AR7           0\n",
       "11467        PBR512      5            AR7           0\n",
       "\n",
       "[495419 rows x 4 columns]"
      ]
     },
     "execution_count": 42,
     "metadata": {},
     "output_type": "execute_result"
    }
   ],
   "source": [
    "columnas_seleccionadas = ['NumeroPedido', 'Orden', 'CodigoArticulo', 'PrecioCoste']\n",
    "\n",
    "nuevo_df = df[columnas_seleccionadas]\n",
    "\n",
    "nuevo_df_ordenado = nuevo_df.sort_values(by='PrecioCoste', ascending=False)\n",
    "\n",
    "nuevo_df_ordenado"
   ]
  },
  {
   "cell_type": "code",
   "execution_count": 43,
   "metadata": {},
   "outputs": [
    {
     "data": {
      "text/plain": [
       "407462"
      ]
     },
     "execution_count": 43,
     "metadata": {},
     "output_type": "execute_result"
    }
   ],
   "source": [
    "df['NumeroPedido'].duplicated().sum()"
   ]
  },
  {
   "cell_type": "code",
   "execution_count": 44,
   "metadata": {},
   "outputs": [
    {
     "data": {
      "text/plain": [
       "EjercicioPedido                    2022\n",
       "NumeroPedido                     PMM283\n",
       "Orden                                25\n",
       "FechaRegistro       2022-05-03 16:39:31\n",
       "FechaPedido                  2022-05-03\n",
       "CodigoArticulo                      AR5\n",
       "Partida                               P\n",
       "CodigoFamilia                      F000\n",
       "CodigoSubfamilia                     FS\n",
       "CodigodelCliente                     C5\n",
       "CodigoProveedor                 P000000\n",
       "FechaCaduca                         NaN\n",
       "FechaEntrega                 2022-05-03\n",
       "Ubicacion                           NaN\n",
       "Estado                                2\n",
       "%Iva                                 21\n",
       "Precio                         -1,4E-09\n",
       "PrecioCoste                           0\n",
       "%Descuento                            0\n",
       "ImporteCoste                          0\n",
       "ImporteBruto                          0\n",
       "ImporteNeto                           0\n",
       "BaseImponible                         0\n",
       "TotalIva                              0\n",
       "ImporteLiquido                        0\n",
       "TipoArticulo                        TPM\n",
       "(No column name)                  U0000\n",
       "Name: 73339, dtype: object"
      ]
     },
     "execution_count": 44,
     "metadata": {},
     "output_type": "execute_result"
    }
   ],
   "source": [
    "df.iloc[73339]"
   ]
  }
 ],
 "metadata": {
  "kernelspec": {
   "display_name": "ML_IMPELIA",
   "language": "python",
   "name": "python3"
  },
  "language_info": {
   "codemirror_mode": {
    "name": "ipython",
    "version": 3
   },
   "file_extension": ".py",
   "mimetype": "text/x-python",
   "name": "python",
   "nbconvert_exporter": "python",
   "pygments_lexer": "ipython3",
   "version": "3.10.13"
  }
 },
 "nbformat": 4,
 "nbformat_minor": 2
}
